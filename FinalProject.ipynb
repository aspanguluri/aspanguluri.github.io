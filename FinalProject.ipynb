{
  "nbformat": 4,
  "nbformat_minor": 0,
  "metadata": {
    "colab": {
      "provenance": []
    },
    "kernelspec": {
      "name": "python3",
      "display_name": "Python 3"
    },
    "language_info": {
      "name": "python"
    }
  },
  "cells": [
    {
      "cell_type": "markdown",
      "source": [
        "#1. Header with Contributions\n",
        "\n",
        "##An Analysis of Goodreads Book Reviews\n",
        "Fall 2024 Data Science Project\n",
        "\n",
        "by:\n",
        "*   Alec Ding, UID: 118754499\n",
        "*   Katherine Krotkov, UID: 118852690\n",
        "*   Anvay Panguluri, UID: 119227169\n",
        "*   Tanmay Panguluri, UID: 119227213\n",
        "\n",
        "Contributions:\n",
        "*   Alec Ding\n",
        "  * []\n",
        "*   Katherine Krotkov\n",
        "  * []\n",
        "*   Anvay Panguluri\n",
        "  * []\n",
        "*   Tanmay Panguluri\n",
        "  * []"
      ],
      "metadata": {
        "id": "W8r2VFXfSkw-"
      }
    },
    {
      "cell_type": "markdown",
      "source": [
        "#2. Introduction"
      ],
      "metadata": {
        "id": "kw5qjBFNTWkL"
      }
    },
    {
      "cell_type": "markdown",
      "source": [
        "#3. Data Curation"
      ],
      "metadata": {
        "id": "VRojuXlKTso7"
      }
    },
    {
      "cell_type": "markdown",
      "source": [
        "#4. Exploratory Data Analysis"
      ],
      "metadata": {
        "id": "V26GBiVlTwn3"
      }
    },
    {
      "cell_type": "markdown",
      "source": [
        "#5. Primary Analysis"
      ],
      "metadata": {
        "id": "FiCCVHW1T01A"
      }
    },
    {
      "cell_type": "markdown",
      "source": [
        "#6. Visualization"
      ],
      "metadata": {
        "id": "-3HI5weST4nc"
      }
    },
    {
      "cell_type": "markdown",
      "source": [
        "#7. Insights and Conclusions"
      ],
      "metadata": {
        "id": "SPuqJD7TT7BG"
      }
    },
    {
      "cell_type": "code",
      "execution_count": null,
      "metadata": {
        "id": "un_I1r5HR5cy"
      },
      "outputs": [],
      "source": []
    }
  ]
}