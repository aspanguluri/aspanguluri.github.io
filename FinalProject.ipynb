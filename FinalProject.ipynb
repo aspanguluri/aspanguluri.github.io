{
  "nbformat": 4,
  "nbformat_minor": 0,
  "metadata": {
    "colab": {
      "provenance": []
    },
    "kernelspec": {
      "name": "python3",
      "display_name": "Python 3"
    },
    "language_info": {
      "name": "python"
    }
  },
  "cells": [
    {
      "cell_type": "markdown",
      "source": [
        "#1. Header with Contributions\n",
        "\n",
        "##An Analysis of Goodreads Book Reviews\n",
        "Fall 2024 Data Science Project\n",
        "\n",
        "by:\n",
        "*   Alec Ding, UID: 118754499\n",
        "*   Katherine Krotkov, UID: 118852690\n",
        "*   Anvay Panguluri, UID: 119227169\n",
        "*   Tanmay Panguluri, UID: 119227213\n",
        "\n",
        "Contributions:\n",
        "*   Alec Ding\n",
        "  * []\n",
        "*   Katherine Krotkov\n",
        "  * []\n",
        "*   Anvay Panguluri\n",
        "  * []\n",
        "*   Tanmay Panguluri\n",
        "  * []"
      ],
      "metadata": {
        "id": "W8r2VFXfSkw-"
      }
    },
    {
      "cell_type": "markdown",
      "source": [
        "#2. Introduction"
      ],
      "metadata": {
        "id": "kw5qjBFNTWkL"
      }
    },
    {
      "cell_type": "markdown",
      "source": [
        "#3. Data Curation\n",
        "\n",
        "[This](https://www.kaggle.com/datasets/jealousleopard/goodreadsbooks/data) is the source of our dataset. The site is Kaggle, a site where high-quality public datasets are available."
      ],
      "metadata": {
        "id": "VRojuXlKTso7"
      }
    },
    {
      "cell_type": "markdown",
      "source": [
        "We first add the required libraries to parse in the dataset:"
      ],
      "metadata": {
        "id": "ORHvLYe8aJu6"
      }
    },
    {
      "cell_type": "code",
      "source": [
        "import pandas as pd\n",
        "import gdown"
      ],
      "metadata": {
        "id": "sJSgxUJPaRPS"
      },
      "execution_count": 1,
      "outputs": []
    },
    {
      "cell_type": "markdown",
      "source": [
        "And then we load the dataset into a pandas dataframe."
      ],
      "metadata": {
        "id": "H_l0X3gsaUtb"
      }
    },
    {
      "cell_type": "code",
      "source": [
        "# Downloading the dataset; this cell needs only to be run once to get the csv\n",
        "# file into the Google Colab Notebook.\n",
        "url = \"https://drive.google.com/uc?id=1yexdWwAjBcYM58T-J2J4d_pEhOx494FF\"\n",
        "output = \"books.csv\"\n",
        "gdown.download(url, output, quiet=False)\n",
        "\n",
        "# Loading the data into a DataFrame.\n",
        "books_df = pd.read_csv(\"books.csv\", on_bad_lines='skip')"
      ],
      "metadata": {
        "colab": {
          "base_uri": "https://localhost:8080/"
        },
        "id": "u6zN-xSZaZfA",
        "outputId": "9bfae0ba-3d85-43a6-e87b-ca47b28467b6"
      },
      "execution_count": 2,
      "outputs": [
        {
          "output_type": "stream",
          "name": "stderr",
          "text": [
            "Downloading...\n",
            "From: https://drive.google.com/uc?id=1yexdWwAjBcYM58T-J2J4d_pEhOx494FF\n",
            "To: /content/books.csv\n",
            "100%|██████████| 1.56M/1.56M [00:00<00:00, 159MB/s]\n"
          ]
        }
      ]
    },
    {
      "cell_type": "markdown",
      "source": [
        "The data is now ready for analysis."
      ],
      "metadata": {
        "id": "X4v1AgBJa9zJ"
      }
    },
    {
      "cell_type": "markdown",
      "source": [
        "#4. Exploratory Data Analysis"
      ],
      "metadata": {
        "id": "V26GBiVlTwn3"
      }
    },
    {
      "cell_type": "markdown",
      "source": [
        "#5. Primary Analysis"
      ],
      "metadata": {
        "id": "FiCCVHW1T01A"
      }
    },
    {
      "cell_type": "markdown",
      "source": [
        "#6. Visualization"
      ],
      "metadata": {
        "id": "-3HI5weST4nc"
      }
    },
    {
      "cell_type": "markdown",
      "source": [
        "#7. Insights and Conclusions"
      ],
      "metadata": {
        "id": "SPuqJD7TT7BG"
      }
    },
    {
      "cell_type": "code",
      "execution_count": null,
      "metadata": {
        "id": "un_I1r5HR5cy"
      },
      "outputs": [],
      "source": []
    }
  ]
}