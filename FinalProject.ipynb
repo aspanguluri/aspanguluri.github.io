{
 "cells": [
  {
   "cell_type": "markdown",
   "metadata": {
    "id": "W8r2VFXfSkw-"
   },
   "source": [
    "#1. Header with Contributions\n",
    "\n",
    "##An Analysis of Goodreads Book Reviews\n",
    "Fall 2024 Data Science Project\n",
    "\n",
    "by:\n",
    "*   Alec Ding, UID: 118754499\n",
    "*   Katherine Krotkov, UID: 118852690\n",
    "*   Anvay Panguluri, UID: 119227169\n",
    "*   Tanmay Panguluri, UID: 119227213\n",
    "\n",
    "Contributions:\n",
    "*   Alec Ding\n",
    "  * []\n",
    "*   Katherine Krotkov\n",
    "  * Created the heatmap visualization and wrote the insights/conclusion section. Also worked on the \"page count vs language code\" in the exploratory data analysis section.\n",
    "*   Anvay Panguluri\n",
    "  * I wrote the data cleaning and transformation portions of the Data Exploration and Summary Statistics section, also adapting the work done in Checkpoint 2. I also assisted in the design and development of the ML algorithm, and I did the Data Curation and Preprocessing section.\n",
    "*   Tanmay Panguluri\n",
    "  * Worked on the ML algorithm design/development and on the ML algorithm training and test data analysis. Used data prepared in section 4 to write section 5: Primary Analysis."
   ]
  },
  {
   "cell_type": "markdown",
   "metadata": {
    "id": "kw5qjBFNTWkL"
   },
   "source": [
    "#2. Introduction\n",
    "\n",
    "The Goodreads book reviews dataset is a dataset that catalogues each book listed on Goodreads, including title, ISBN, Author, publisher, rating, and rating count."
   ]
  },
  {
   "cell_type": "markdown",
   "metadata": {
    "id": "VRojuXlKTso7"
   },
   "source": [
    "#3. Data Curation\n",
    "\n",
    "[This](https://www.kaggle.com/datasets/jealousleopard/goodreadsbooks/data) is the source of our dataset. The site is Kaggle, a site where high-quality public datasets are available."
   ]
  },
  {
   "cell_type": "markdown",
   "metadata": {
    "id": "ORHvLYe8aJu6"
   },
   "source": [
    "We first add the required libraries to parse in the dataset:"
   ]
  },
  {
   "cell_type": "code",
   "metadata": {
    "id": "sJSgxUJPaRPS",
    "ExecuteTime": {
     "end_time": "2024-12-03T03:57:56.227783Z",
     "start_time": "2024-12-03T03:57:56.216773Z"
    }
   },
   "source": [
    "import pandas as pd\n",
    "import gdown\n",
    "import os\n",
    "import matplotlib.pyplot as plt\n",
    "import seaborn as sns"
   ],
   "outputs": [],
   "execution_count": 245
  },
  {
   "cell_type": "markdown",
   "metadata": {
    "id": "H_l0X3gsaUtb"
   },
   "source": [
    "And then we load the dataset into a pandas dataframe."
   ]
  },
  {
   "cell_type": "code",
   "metadata": {
    "colab": {
     "base_uri": "https://localhost:8080/"
    },
    "id": "u6zN-xSZaZfA",
    "outputId": "72790ce5-2cd9-40dc-b659-566fd7ae961d",
    "ExecuteTime": {
     "end_time": "2024-12-03T03:57:56.275827Z",
     "start_time": "2024-12-03T03:57:56.230786Z"
    }
   },
   "source": [
    "# Downloading the dataset; this cell needs only to be run once to get the csv\n",
    "# file into the Google Colab Notebook.\n",
    "url = \"https://drive.google.com/uc?id=1yexdWwAjBcYM58T-J2J4d_pEhOx494FF\"\n",
    "output = \"books.csv\"\n",
    "if not os.path.exists(output):\n",
    "    gdown.download(url, output, quiet=False)\n",
    "\n",
    "# Loading the data into a DataFrame.\n",
    "books_df = pd.read_csv(\"books.csv\", on_bad_lines='skip')\n",
    "books_df_original = books_df.copy()"
   ],
   "outputs": [],
   "execution_count": 246
  },
  {
   "cell_type": "markdown",
   "metadata": {
    "id": "X4v1AgBJa9zJ"
   },
   "source": [
    "The data is now ready for analysis."
   ]
  },
  {
   "cell_type": "markdown",
   "metadata": {
    "id": "V26GBiVlTwn3"
   },
   "source": [
    "#4. Exploratory Data Analysis\n",
    "\n",
    "We will now examine the dataset."
   ]
  },
  {
   "cell_type": "code",
   "metadata": {
    "colab": {
     "base_uri": "https://localhost:8080/"
    },
    "id": "H9TdlYC0dOUT",
    "outputId": "bf856487-3b5b-47c5-e8bf-b302ea799273",
    "ExecuteTime": {
     "end_time": "2024-12-03T03:57:56.323423Z",
     "start_time": "2024-12-03T03:57:56.308410Z"
    }
   },
   "source": [
    "books_df.shape"
   ],
   "outputs": [
    {
     "data": {
      "text/plain": [
       "(11123, 12)"
      ]
     },
     "execution_count": 247,
     "metadata": {},
     "output_type": "execute_result"
    }
   ],
   "execution_count": 247
  },
  {
   "cell_type": "markdown",
   "metadata": {
    "id": "0ua5Vz2ldSsf"
   },
   "source": [
    "As can be seen, there are 11,123 records and 12 features in the dataset.\n",
    "\n",
    "Here is a preview of the dataset:"
   ]
  },
  {
   "cell_type": "code",
   "metadata": {
    "colab": {
     "base_uri": "https://localhost:8080/",
     "height": 727
    },
    "id": "75BNBjutd8Sd",
    "outputId": "50cd4535-ccda-4ca5-a1fb-9c4a854b8a9a",
    "ExecuteTime": {
     "end_time": "2024-12-03T03:57:56.370797Z",
     "start_time": "2024-12-03T03:57:56.355784Z"
    }
   },
   "source": [
    "books_df.head()"
   ],
   "outputs": [
    {
     "data": {
      "text/plain": [
       "   bookID                                              title  \\\n",
       "0       1  Harry Potter and the Half-Blood Prince (Harry ...   \n",
       "1       2  Harry Potter and the Order of the Phoenix (Har...   \n",
       "2       4  Harry Potter and the Chamber of Secrets (Harry...   \n",
       "3       5  Harry Potter and the Prisoner of Azkaban (Harr...   \n",
       "4       8  Harry Potter Boxed Set  Books 1-5 (Harry Potte...   \n",
       "\n",
       "                      authors  average_rating        isbn         isbn13  \\\n",
       "0  J.K. Rowling/Mary GrandPré            4.57  0439785960  9780439785969   \n",
       "1  J.K. Rowling/Mary GrandPré            4.49  0439358078  9780439358071   \n",
       "2                J.K. Rowling            4.42  0439554896  9780439554893   \n",
       "3  J.K. Rowling/Mary GrandPré            4.56  043965548X  9780439655484   \n",
       "4  J.K. Rowling/Mary GrandPré            4.78  0439682584  9780439682589   \n",
       "\n",
       "  language_code    num_pages  ratings_count  text_reviews_count  \\\n",
       "0           eng          652        2095690               27591   \n",
       "1           eng          870        2153167               29221   \n",
       "2           eng          352           6333                 244   \n",
       "3           eng          435        2339585               36325   \n",
       "4           eng         2690          41428                 164   \n",
       "\n",
       "  publication_date        publisher  \n",
       "0        9/16/2006  Scholastic Inc.  \n",
       "1         9/1/2004  Scholastic Inc.  \n",
       "2        11/1/2003       Scholastic  \n",
       "3         5/1/2004  Scholastic Inc.  \n",
       "4        9/13/2004       Scholastic  "
      ],
      "text/html": [
       "<div>\n",
       "<style scoped>\n",
       "    .dataframe tbody tr th:only-of-type {\n",
       "        vertical-align: middle;\n",
       "    }\n",
       "\n",
       "    .dataframe tbody tr th {\n",
       "        vertical-align: top;\n",
       "    }\n",
       "\n",
       "    .dataframe thead th {\n",
       "        text-align: right;\n",
       "    }\n",
       "</style>\n",
       "<table border=\"1\" class=\"dataframe\">\n",
       "  <thead>\n",
       "    <tr style=\"text-align: right;\">\n",
       "      <th></th>\n",
       "      <th>bookID</th>\n",
       "      <th>title</th>\n",
       "      <th>authors</th>\n",
       "      <th>average_rating</th>\n",
       "      <th>isbn</th>\n",
       "      <th>isbn13</th>\n",
       "      <th>language_code</th>\n",
       "      <th>num_pages</th>\n",
       "      <th>ratings_count</th>\n",
       "      <th>text_reviews_count</th>\n",
       "      <th>publication_date</th>\n",
       "      <th>publisher</th>\n",
       "    </tr>\n",
       "  </thead>\n",
       "  <tbody>\n",
       "    <tr>\n",
       "      <th>0</th>\n",
       "      <td>1</td>\n",
       "      <td>Harry Potter and the Half-Blood Prince (Harry ...</td>\n",
       "      <td>J.K. Rowling/Mary GrandPré</td>\n",
       "      <td>4.57</td>\n",
       "      <td>0439785960</td>\n",
       "      <td>9780439785969</td>\n",
       "      <td>eng</td>\n",
       "      <td>652</td>\n",
       "      <td>2095690</td>\n",
       "      <td>27591</td>\n",
       "      <td>9/16/2006</td>\n",
       "      <td>Scholastic Inc.</td>\n",
       "    </tr>\n",
       "    <tr>\n",
       "      <th>1</th>\n",
       "      <td>2</td>\n",
       "      <td>Harry Potter and the Order of the Phoenix (Har...</td>\n",
       "      <td>J.K. Rowling/Mary GrandPré</td>\n",
       "      <td>4.49</td>\n",
       "      <td>0439358078</td>\n",
       "      <td>9780439358071</td>\n",
       "      <td>eng</td>\n",
       "      <td>870</td>\n",
       "      <td>2153167</td>\n",
       "      <td>29221</td>\n",
       "      <td>9/1/2004</td>\n",
       "      <td>Scholastic Inc.</td>\n",
       "    </tr>\n",
       "    <tr>\n",
       "      <th>2</th>\n",
       "      <td>4</td>\n",
       "      <td>Harry Potter and the Chamber of Secrets (Harry...</td>\n",
       "      <td>J.K. Rowling</td>\n",
       "      <td>4.42</td>\n",
       "      <td>0439554896</td>\n",
       "      <td>9780439554893</td>\n",
       "      <td>eng</td>\n",
       "      <td>352</td>\n",
       "      <td>6333</td>\n",
       "      <td>244</td>\n",
       "      <td>11/1/2003</td>\n",
       "      <td>Scholastic</td>\n",
       "    </tr>\n",
       "    <tr>\n",
       "      <th>3</th>\n",
       "      <td>5</td>\n",
       "      <td>Harry Potter and the Prisoner of Azkaban (Harr...</td>\n",
       "      <td>J.K. Rowling/Mary GrandPré</td>\n",
       "      <td>4.56</td>\n",
       "      <td>043965548X</td>\n",
       "      <td>9780439655484</td>\n",
       "      <td>eng</td>\n",
       "      <td>435</td>\n",
       "      <td>2339585</td>\n",
       "      <td>36325</td>\n",
       "      <td>5/1/2004</td>\n",
       "      <td>Scholastic Inc.</td>\n",
       "    </tr>\n",
       "    <tr>\n",
       "      <th>4</th>\n",
       "      <td>8</td>\n",
       "      <td>Harry Potter Boxed Set  Books 1-5 (Harry Potte...</td>\n",
       "      <td>J.K. Rowling/Mary GrandPré</td>\n",
       "      <td>4.78</td>\n",
       "      <td>0439682584</td>\n",
       "      <td>9780439682589</td>\n",
       "      <td>eng</td>\n",
       "      <td>2690</td>\n",
       "      <td>41428</td>\n",
       "      <td>164</td>\n",
       "      <td>9/13/2004</td>\n",
       "      <td>Scholastic</td>\n",
       "    </tr>\n",
       "  </tbody>\n",
       "</table>\n",
       "</div>"
      ]
     },
     "execution_count": 248,
     "metadata": {},
     "output_type": "execute_result"
    }
   ],
   "execution_count": 248
  },
  {
   "cell_type": "markdown",
   "metadata": {
    "id": "vjHKeWf5fCVA"
   },
   "source": [
    "We can explicitly give the columns:"
   ]
  },
  {
   "cell_type": "code",
   "metadata": {
    "colab": {
     "base_uri": "https://localhost:8080/"
    },
    "id": "SNoMWevzfGNd",
    "outputId": "9ed65671-2b45-4400-edd8-5a9a1e6e27a0",
    "ExecuteTime": {
     "end_time": "2024-12-03T03:57:56.450870Z",
     "start_time": "2024-12-03T03:57:56.435856Z"
    }
   },
   "source": "books_df.columns",
   "outputs": [
    {
     "data": {
      "text/plain": [
       "Index(['bookID', 'title', 'authors', 'average_rating', 'isbn', 'isbn13',\n",
       "       'language_code', '  num_pages', 'ratings_count', 'text_reviews_count',\n",
       "       'publication_date', 'publisher'],\n",
       "      dtype='object')"
      ]
     },
     "execution_count": 249,
     "metadata": {},
     "output_type": "execute_result"
    }
   ],
   "execution_count": 249
  },
  {
   "cell_type": "markdown",
   "metadata": {
    "id": "DPExohKrfIem"
   },
   "source": [
    "and datatypes of those columns:"
   ]
  },
  {
   "cell_type": "code",
   "metadata": {
    "colab": {
     "base_uri": "https://localhost:8080/",
     "height": 460
    },
    "id": "FGHSUXK8fL7h",
    "outputId": "a546612b-0629-4485-f674-e9642950de39",
    "ExecuteTime": {
     "end_time": "2024-12-03T03:57:56.512926Z",
     "start_time": "2024-12-03T03:57:56.497912Z"
    }
   },
   "source": [
    "books_df.dtypes"
   ],
   "outputs": [
    {
     "data": {
      "text/plain": [
       "bookID                  int64\n",
       "title                  object\n",
       "authors                object\n",
       "average_rating        float64\n",
       "isbn                   object\n",
       "isbn13                  int64\n",
       "language_code          object\n",
       "  num_pages             int64\n",
       "ratings_count           int64\n",
       "text_reviews_count      int64\n",
       "publication_date       object\n",
       "publisher              object\n",
       "dtype: object"
      ]
     },
     "execution_count": 250,
     "metadata": {},
     "output_type": "execute_result"
    }
   ],
   "execution_count": 250
  },
  {
   "cell_type": "markdown",
   "metadata": {
    "id": "xoJ_hcydfPRE"
   },
   "source": [
    "The datatypes are in a mix of strings and integers. Since we wish to perform linear regression on this data (which will be explained later), we will need to transform all the string data into numerical data. This can be accomplished through label encoding, which will be done later."
   ]
  },
  {
   "cell_type": "markdown",
   "metadata": {
    "id": "Muy6M_z9lEnc"
   },
   "source": [
    "We can also examine some summary statistics of the columns with numerical data where such summary statistics make sense. That is to say, taking the median or average of ISBN numbers makes little sense, since ISBNs are not continuous variables like num_pages, ratings_counts, or average_ratings is."
   ]
  },
  {
   "cell_type": "code",
   "metadata": {
    "colab": {
     "base_uri": "https://localhost:8080/",
     "height": 300
    },
    "id": "siwKspqRlIGa",
    "outputId": "2850b516-320e-4217-aad1-3bb54b63f511",
    "ExecuteTime": {
     "end_time": "2024-12-03T03:57:56.592999Z",
     "start_time": "2024-12-03T03:57:56.577985Z"
    }
   },
   "source": [
    "books_df[['average_rating', '  num_pages', 'ratings_count', 'text_reviews_count']].describe()"
   ],
   "outputs": [
    {
     "data": {
      "text/plain": [
       "       average_rating     num_pages  ratings_count  text_reviews_count\n",
       "count    11123.000000  11123.000000   1.112300e+04        11123.000000\n",
       "mean         3.934075    336.405556   1.794285e+04          542.048099\n",
       "std          0.350485    241.152626   1.124992e+05         2576.619589\n",
       "min          0.000000      0.000000   0.000000e+00            0.000000\n",
       "25%          3.770000    192.000000   1.040000e+02            9.000000\n",
       "50%          3.960000    299.000000   7.450000e+02           47.000000\n",
       "75%          4.140000    416.000000   5.000500e+03          238.000000\n",
       "max          5.000000   6576.000000   4.597666e+06        94265.000000"
      ],
      "text/html": [
       "<div>\n",
       "<style scoped>\n",
       "    .dataframe tbody tr th:only-of-type {\n",
       "        vertical-align: middle;\n",
       "    }\n",
       "\n",
       "    .dataframe tbody tr th {\n",
       "        vertical-align: top;\n",
       "    }\n",
       "\n",
       "    .dataframe thead th {\n",
       "        text-align: right;\n",
       "    }\n",
       "</style>\n",
       "<table border=\"1\" class=\"dataframe\">\n",
       "  <thead>\n",
       "    <tr style=\"text-align: right;\">\n",
       "      <th></th>\n",
       "      <th>average_rating</th>\n",
       "      <th>num_pages</th>\n",
       "      <th>ratings_count</th>\n",
       "      <th>text_reviews_count</th>\n",
       "    </tr>\n",
       "  </thead>\n",
       "  <tbody>\n",
       "    <tr>\n",
       "      <th>count</th>\n",
       "      <td>11123.000000</td>\n",
       "      <td>11123.000000</td>\n",
       "      <td>1.112300e+04</td>\n",
       "      <td>11123.000000</td>\n",
       "    </tr>\n",
       "    <tr>\n",
       "      <th>mean</th>\n",
       "      <td>3.934075</td>\n",
       "      <td>336.405556</td>\n",
       "      <td>1.794285e+04</td>\n",
       "      <td>542.048099</td>\n",
       "    </tr>\n",
       "    <tr>\n",
       "      <th>std</th>\n",
       "      <td>0.350485</td>\n",
       "      <td>241.152626</td>\n",
       "      <td>1.124992e+05</td>\n",
       "      <td>2576.619589</td>\n",
       "    </tr>\n",
       "    <tr>\n",
       "      <th>min</th>\n",
       "      <td>0.000000</td>\n",
       "      <td>0.000000</td>\n",
       "      <td>0.000000e+00</td>\n",
       "      <td>0.000000</td>\n",
       "    </tr>\n",
       "    <tr>\n",
       "      <th>25%</th>\n",
       "      <td>3.770000</td>\n",
       "      <td>192.000000</td>\n",
       "      <td>1.040000e+02</td>\n",
       "      <td>9.000000</td>\n",
       "    </tr>\n",
       "    <tr>\n",
       "      <th>50%</th>\n",
       "      <td>3.960000</td>\n",
       "      <td>299.000000</td>\n",
       "      <td>7.450000e+02</td>\n",
       "      <td>47.000000</td>\n",
       "    </tr>\n",
       "    <tr>\n",
       "      <th>75%</th>\n",
       "      <td>4.140000</td>\n",
       "      <td>416.000000</td>\n",
       "      <td>5.000500e+03</td>\n",
       "      <td>238.000000</td>\n",
       "    </tr>\n",
       "    <tr>\n",
       "      <th>max</th>\n",
       "      <td>5.000000</td>\n",
       "      <td>6576.000000</td>\n",
       "      <td>4.597666e+06</td>\n",
       "      <td>94265.000000</td>\n",
       "    </tr>\n",
       "  </tbody>\n",
       "</table>\n",
       "</div>"
      ]
     },
     "execution_count": 251,
     "metadata": {},
     "output_type": "execute_result"
    }
   ],
   "execution_count": 251
  },
  {
   "cell_type": "markdown",
   "metadata": {
    "id": "oG_wso8V3h5-"
   },
   "source": [
    "You might notice that the column '  num_pages' is incorrectly formatted; there are leading spaces. This can be solved by using the strip() function on all the column names."
   ]
  },
  {
   "cell_type": "code",
   "metadata": {
    "id": "twZJyDUb3xTl",
    "ExecuteTime": {
     "end_time": "2024-12-03T03:57:56.686372Z",
     "start_time": "2024-12-03T03:57:56.672136Z"
    }
   },
   "source": [
    "books_df.columns = books_df.columns.str.strip()"
   ],
   "outputs": [],
   "execution_count": 252
  },
  {
   "cell_type": "markdown",
   "metadata": {
    "id": "JZjpcfSHEfMw"
   },
   "source": [
    "In order to apply linear regression to the dataset, the columns we want to analyze have to be numerical. Some of the columns are in string or date form, which will not work.\n",
    "\n",
    "So, these must be encoded.\n",
    "\n",
    "First off, we can convert the publication date into a unix time value to turn it into a number.\n"
   ]
  },
  {
   "cell_type": "code",
   "metadata": {
    "id": "hKoSfEXxHAzI",
    "ExecuteTime": {
     "end_time": "2024-12-03T03:57:56.796471Z",
     "start_time": "2024-12-03T03:57:56.735416Z"
    }
   },
   "source": [
    "import datetime as dt\n",
    "# books_df['publication_date'] = pd.to_datetime(books_df['publication_date'], format=\"%m/%d/%Y\", errors=\"coerce\", origin=\"unix\")\n",
    "books_df = books_df[pd.to_datetime(books_df[\"publication_date\"], errors=\"coerce\").notna()]\n",
    "books_df['publication_date'] = books_df[\"publication_date\"].apply(lambda x: pd.Timestamp(x).timestamp())\n",
    "\n",
    "books_df"
   ],
   "outputs": [
    {
     "data": {
      "text/plain": [
       "       bookID                                              title  \\\n",
       "0           1  Harry Potter and the Half-Blood Prince (Harry ...   \n",
       "1           2  Harry Potter and the Order of the Phoenix (Har...   \n",
       "2           4  Harry Potter and the Chamber of Secrets (Harry...   \n",
       "3           5  Harry Potter and the Prisoner of Azkaban (Harr...   \n",
       "4           8  Harry Potter Boxed Set  Books 1-5 (Harry Potte...   \n",
       "...       ...                                                ...   \n",
       "11118   45631   Expelled from Eden: A William T. Vollmann Reader   \n",
       "11119   45633                        You Bright and Risen Angels   \n",
       "11120   45634                    The Ice-Shirt (Seven Dreams #1)   \n",
       "11121   45639                                        Poor People   \n",
       "11122   45641                        Las aventuras de Tom Sawyer   \n",
       "\n",
       "                                                 authors  average_rating  \\\n",
       "0                             J.K. Rowling/Mary GrandPré            4.57   \n",
       "1                             J.K. Rowling/Mary GrandPré            4.49   \n",
       "2                                           J.K. Rowling            4.42   \n",
       "3                             J.K. Rowling/Mary GrandPré            4.56   \n",
       "4                             J.K. Rowling/Mary GrandPré            4.78   \n",
       "...                                                  ...             ...   \n",
       "11118  William T. Vollmann/Larry McCaffery/Michael He...            4.06   \n",
       "11119                                William T. Vollmann            4.08   \n",
       "11120                                William T. Vollmann            3.96   \n",
       "11121                                William T. Vollmann            3.72   \n",
       "11122                                         Mark Twain            3.91   \n",
       "\n",
       "             isbn         isbn13 language_code  num_pages  ratings_count  \\\n",
       "0      0439785960  9780439785969           eng        652        2095690   \n",
       "1      0439358078  9780439358071           eng        870        2153167   \n",
       "2      0439554896  9780439554893           eng        352           6333   \n",
       "3      043965548X  9780439655484           eng        435        2339585   \n",
       "4      0439682584  9780439682589           eng       2690          41428   \n",
       "...           ...            ...           ...        ...            ...   \n",
       "11118  1560254416  9781560254416           eng        512            156   \n",
       "11119  0140110879  9780140110876           eng        635            783   \n",
       "11120  0140131965  9780140131963           eng        415            820   \n",
       "11121  0060878827  9780060878825           eng        434            769   \n",
       "11122  8497646983  9788497646987           spa        272            113   \n",
       "\n",
       "       text_reviews_count  publication_date        publisher  \n",
       "0                   27591      1.158365e+09  Scholastic Inc.  \n",
       "1                   29221      1.093997e+09  Scholastic Inc.  \n",
       "2                     244      1.067645e+09       Scholastic  \n",
       "3                   36325      1.083370e+09  Scholastic Inc.  \n",
       "4                     164      1.095034e+09       Scholastic  \n",
       "...                   ...               ...              ...  \n",
       "11118                  20      1.103587e+09    Da Capo Press  \n",
       "11119                  56      5.969376e+08    Penguin Books  \n",
       "11120                  95      7.441632e+08    Penguin Books  \n",
       "11121                 139      1.172534e+09             Ecco  \n",
       "11122                  12      1.148774e+09    Edimat Libros  \n",
       "\n",
       "[11121 rows x 12 columns]"
      ],
      "text/html": [
       "<div>\n",
       "<style scoped>\n",
       "    .dataframe tbody tr th:only-of-type {\n",
       "        vertical-align: middle;\n",
       "    }\n",
       "\n",
       "    .dataframe tbody tr th {\n",
       "        vertical-align: top;\n",
       "    }\n",
       "\n",
       "    .dataframe thead th {\n",
       "        text-align: right;\n",
       "    }\n",
       "</style>\n",
       "<table border=\"1\" class=\"dataframe\">\n",
       "  <thead>\n",
       "    <tr style=\"text-align: right;\">\n",
       "      <th></th>\n",
       "      <th>bookID</th>\n",
       "      <th>title</th>\n",
       "      <th>authors</th>\n",
       "      <th>average_rating</th>\n",
       "      <th>isbn</th>\n",
       "      <th>isbn13</th>\n",
       "      <th>language_code</th>\n",
       "      <th>num_pages</th>\n",
       "      <th>ratings_count</th>\n",
       "      <th>text_reviews_count</th>\n",
       "      <th>publication_date</th>\n",
       "      <th>publisher</th>\n",
       "    </tr>\n",
       "  </thead>\n",
       "  <tbody>\n",
       "    <tr>\n",
       "      <th>0</th>\n",
       "      <td>1</td>\n",
       "      <td>Harry Potter and the Half-Blood Prince (Harry ...</td>\n",
       "      <td>J.K. Rowling/Mary GrandPré</td>\n",
       "      <td>4.57</td>\n",
       "      <td>0439785960</td>\n",
       "      <td>9780439785969</td>\n",
       "      <td>eng</td>\n",
       "      <td>652</td>\n",
       "      <td>2095690</td>\n",
       "      <td>27591</td>\n",
       "      <td>1.158365e+09</td>\n",
       "      <td>Scholastic Inc.</td>\n",
       "    </tr>\n",
       "    <tr>\n",
       "      <th>1</th>\n",
       "      <td>2</td>\n",
       "      <td>Harry Potter and the Order of the Phoenix (Har...</td>\n",
       "      <td>J.K. Rowling/Mary GrandPré</td>\n",
       "      <td>4.49</td>\n",
       "      <td>0439358078</td>\n",
       "      <td>9780439358071</td>\n",
       "      <td>eng</td>\n",
       "      <td>870</td>\n",
       "      <td>2153167</td>\n",
       "      <td>29221</td>\n",
       "      <td>1.093997e+09</td>\n",
       "      <td>Scholastic Inc.</td>\n",
       "    </tr>\n",
       "    <tr>\n",
       "      <th>2</th>\n",
       "      <td>4</td>\n",
       "      <td>Harry Potter and the Chamber of Secrets (Harry...</td>\n",
       "      <td>J.K. Rowling</td>\n",
       "      <td>4.42</td>\n",
       "      <td>0439554896</td>\n",
       "      <td>9780439554893</td>\n",
       "      <td>eng</td>\n",
       "      <td>352</td>\n",
       "      <td>6333</td>\n",
       "      <td>244</td>\n",
       "      <td>1.067645e+09</td>\n",
       "      <td>Scholastic</td>\n",
       "    </tr>\n",
       "    <tr>\n",
       "      <th>3</th>\n",
       "      <td>5</td>\n",
       "      <td>Harry Potter and the Prisoner of Azkaban (Harr...</td>\n",
       "      <td>J.K. Rowling/Mary GrandPré</td>\n",
       "      <td>4.56</td>\n",
       "      <td>043965548X</td>\n",
       "      <td>9780439655484</td>\n",
       "      <td>eng</td>\n",
       "      <td>435</td>\n",
       "      <td>2339585</td>\n",
       "      <td>36325</td>\n",
       "      <td>1.083370e+09</td>\n",
       "      <td>Scholastic Inc.</td>\n",
       "    </tr>\n",
       "    <tr>\n",
       "      <th>4</th>\n",
       "      <td>8</td>\n",
       "      <td>Harry Potter Boxed Set  Books 1-5 (Harry Potte...</td>\n",
       "      <td>J.K. Rowling/Mary GrandPré</td>\n",
       "      <td>4.78</td>\n",
       "      <td>0439682584</td>\n",
       "      <td>9780439682589</td>\n",
       "      <td>eng</td>\n",
       "      <td>2690</td>\n",
       "      <td>41428</td>\n",
       "      <td>164</td>\n",
       "      <td>1.095034e+09</td>\n",
       "      <td>Scholastic</td>\n",
       "    </tr>\n",
       "    <tr>\n",
       "      <th>...</th>\n",
       "      <td>...</td>\n",
       "      <td>...</td>\n",
       "      <td>...</td>\n",
       "      <td>...</td>\n",
       "      <td>...</td>\n",
       "      <td>...</td>\n",
       "      <td>...</td>\n",
       "      <td>...</td>\n",
       "      <td>...</td>\n",
       "      <td>...</td>\n",
       "      <td>...</td>\n",
       "      <td>...</td>\n",
       "    </tr>\n",
       "    <tr>\n",
       "      <th>11118</th>\n",
       "      <td>45631</td>\n",
       "      <td>Expelled from Eden: A William T. Vollmann Reader</td>\n",
       "      <td>William T. Vollmann/Larry McCaffery/Michael He...</td>\n",
       "      <td>4.06</td>\n",
       "      <td>1560254416</td>\n",
       "      <td>9781560254416</td>\n",
       "      <td>eng</td>\n",
       "      <td>512</td>\n",
       "      <td>156</td>\n",
       "      <td>20</td>\n",
       "      <td>1.103587e+09</td>\n",
       "      <td>Da Capo Press</td>\n",
       "    </tr>\n",
       "    <tr>\n",
       "      <th>11119</th>\n",
       "      <td>45633</td>\n",
       "      <td>You Bright and Risen Angels</td>\n",
       "      <td>William T. Vollmann</td>\n",
       "      <td>4.08</td>\n",
       "      <td>0140110879</td>\n",
       "      <td>9780140110876</td>\n",
       "      <td>eng</td>\n",
       "      <td>635</td>\n",
       "      <td>783</td>\n",
       "      <td>56</td>\n",
       "      <td>5.969376e+08</td>\n",
       "      <td>Penguin Books</td>\n",
       "    </tr>\n",
       "    <tr>\n",
       "      <th>11120</th>\n",
       "      <td>45634</td>\n",
       "      <td>The Ice-Shirt (Seven Dreams #1)</td>\n",
       "      <td>William T. Vollmann</td>\n",
       "      <td>3.96</td>\n",
       "      <td>0140131965</td>\n",
       "      <td>9780140131963</td>\n",
       "      <td>eng</td>\n",
       "      <td>415</td>\n",
       "      <td>820</td>\n",
       "      <td>95</td>\n",
       "      <td>7.441632e+08</td>\n",
       "      <td>Penguin Books</td>\n",
       "    </tr>\n",
       "    <tr>\n",
       "      <th>11121</th>\n",
       "      <td>45639</td>\n",
       "      <td>Poor People</td>\n",
       "      <td>William T. Vollmann</td>\n",
       "      <td>3.72</td>\n",
       "      <td>0060878827</td>\n",
       "      <td>9780060878825</td>\n",
       "      <td>eng</td>\n",
       "      <td>434</td>\n",
       "      <td>769</td>\n",
       "      <td>139</td>\n",
       "      <td>1.172534e+09</td>\n",
       "      <td>Ecco</td>\n",
       "    </tr>\n",
       "    <tr>\n",
       "      <th>11122</th>\n",
       "      <td>45641</td>\n",
       "      <td>Las aventuras de Tom Sawyer</td>\n",
       "      <td>Mark Twain</td>\n",
       "      <td>3.91</td>\n",
       "      <td>8497646983</td>\n",
       "      <td>9788497646987</td>\n",
       "      <td>spa</td>\n",
       "      <td>272</td>\n",
       "      <td>113</td>\n",
       "      <td>12</td>\n",
       "      <td>1.148774e+09</td>\n",
       "      <td>Edimat Libros</td>\n",
       "    </tr>\n",
       "  </tbody>\n",
       "</table>\n",
       "<p>11121 rows × 12 columns</p>\n",
       "</div>"
      ]
     },
     "execution_count": 253,
     "metadata": {},
     "output_type": "execute_result"
    }
   ],
   "execution_count": 253
  },
  {
   "cell_type": "markdown",
   "metadata": {
    "id": "e-7OZnpZXZcz"
   },
   "source": [
    "Now, we will perform one-hot encoding for the languages. This will be used later in the model training. The publisher, author, and name will be ignored (and dropped later) as they do not contribute meaningfully to the rating.\n",
    "\n"
   ]
  },
  {
   "cell_type": "code",
   "metadata": {
    "colab": {
     "base_uri": "https://localhost:8080/",
     "height": 747
    },
    "id": "d9lZAov4XrRo",
    "outputId": "3dc3182d-956c-48d3-e6e8-486214913917",
    "ExecuteTime": {
     "end_time": "2024-12-03T03:57:56.860530Z",
     "start_time": "2024-12-03T03:57:56.830503Z"
    }
   },
   "source": [
    "books_df = pd.get_dummies(books_df, columns=[\"language_code\"])\n",
    "books_df[\"language_code\"] = books_df_original[\"language_code\"]\n",
    "books_df.head()"
   ],
   "outputs": [
    {
     "data": {
      "text/plain": [
       "   bookID                                              title  \\\n",
       "0       1  Harry Potter and the Half-Blood Prince (Harry ...   \n",
       "1       2  Harry Potter and the Order of the Phoenix (Har...   \n",
       "2       4  Harry Potter and the Chamber of Secrets (Harry...   \n",
       "3       5  Harry Potter and the Prisoner of Azkaban (Harr...   \n",
       "4       8  Harry Potter Boxed Set  Books 1-5 (Harry Potte...   \n",
       "\n",
       "                      authors  average_rating        isbn         isbn13  \\\n",
       "0  J.K. Rowling/Mary GrandPré            4.57  0439785960  9780439785969   \n",
       "1  J.K. Rowling/Mary GrandPré            4.49  0439358078  9780439358071   \n",
       "2                J.K. Rowling            4.42  0439554896  9780439554893   \n",
       "3  J.K. Rowling/Mary GrandPré            4.56  043965548X  9780439655484   \n",
       "4  J.K. Rowling/Mary GrandPré            4.78  0439682584  9780439682589   \n",
       "\n",
       "   num_pages  ratings_count  text_reviews_count  publication_date  ...  \\\n",
       "0        652        2095690               27591      1.158365e+09  ...   \n",
       "1        870        2153167               29221      1.093997e+09  ...   \n",
       "2        352           6333                 244      1.067645e+09  ...   \n",
       "3        435        2339585               36325      1.083370e+09  ...   \n",
       "4       2690          41428                 164      1.095034e+09  ...   \n",
       "\n",
       "  language_code_nor  language_code_por  language_code_rus  language_code_spa  \\\n",
       "0                 0                  0                  0                  0   \n",
       "1                 0                  0                  0                  0   \n",
       "2                 0                  0                  0                  0   \n",
       "3                 0                  0                  0                  0   \n",
       "4                 0                  0                  0                  0   \n",
       "\n",
       "   language_code_srp  language_code_swe  language_code_tur  language_code_wel  \\\n",
       "0                  0                  0                  0                  0   \n",
       "1                  0                  0                  0                  0   \n",
       "2                  0                  0                  0                  0   \n",
       "3                  0                  0                  0                  0   \n",
       "4                  0                  0                  0                  0   \n",
       "\n",
       "   language_code_zho  language_code  \n",
       "0                  0            eng  \n",
       "1                  0            eng  \n",
       "2                  0            eng  \n",
       "3                  0            eng  \n",
       "4                  0            eng  \n",
       "\n",
       "[5 rows x 39 columns]"
      ],
      "text/html": [
       "<div>\n",
       "<style scoped>\n",
       "    .dataframe tbody tr th:only-of-type {\n",
       "        vertical-align: middle;\n",
       "    }\n",
       "\n",
       "    .dataframe tbody tr th {\n",
       "        vertical-align: top;\n",
       "    }\n",
       "\n",
       "    .dataframe thead th {\n",
       "        text-align: right;\n",
       "    }\n",
       "</style>\n",
       "<table border=\"1\" class=\"dataframe\">\n",
       "  <thead>\n",
       "    <tr style=\"text-align: right;\">\n",
       "      <th></th>\n",
       "      <th>bookID</th>\n",
       "      <th>title</th>\n",
       "      <th>authors</th>\n",
       "      <th>average_rating</th>\n",
       "      <th>isbn</th>\n",
       "      <th>isbn13</th>\n",
       "      <th>num_pages</th>\n",
       "      <th>ratings_count</th>\n",
       "      <th>text_reviews_count</th>\n",
       "      <th>publication_date</th>\n",
       "      <th>...</th>\n",
       "      <th>language_code_nor</th>\n",
       "      <th>language_code_por</th>\n",
       "      <th>language_code_rus</th>\n",
       "      <th>language_code_spa</th>\n",
       "      <th>language_code_srp</th>\n",
       "      <th>language_code_swe</th>\n",
       "      <th>language_code_tur</th>\n",
       "      <th>language_code_wel</th>\n",
       "      <th>language_code_zho</th>\n",
       "      <th>language_code</th>\n",
       "    </tr>\n",
       "  </thead>\n",
       "  <tbody>\n",
       "    <tr>\n",
       "      <th>0</th>\n",
       "      <td>1</td>\n",
       "      <td>Harry Potter and the Half-Blood Prince (Harry ...</td>\n",
       "      <td>J.K. Rowling/Mary GrandPré</td>\n",
       "      <td>4.57</td>\n",
       "      <td>0439785960</td>\n",
       "      <td>9780439785969</td>\n",
       "      <td>652</td>\n",
       "      <td>2095690</td>\n",
       "      <td>27591</td>\n",
       "      <td>1.158365e+09</td>\n",
       "      <td>...</td>\n",
       "      <td>0</td>\n",
       "      <td>0</td>\n",
       "      <td>0</td>\n",
       "      <td>0</td>\n",
       "      <td>0</td>\n",
       "      <td>0</td>\n",
       "      <td>0</td>\n",
       "      <td>0</td>\n",
       "      <td>0</td>\n",
       "      <td>eng</td>\n",
       "    </tr>\n",
       "    <tr>\n",
       "      <th>1</th>\n",
       "      <td>2</td>\n",
       "      <td>Harry Potter and the Order of the Phoenix (Har...</td>\n",
       "      <td>J.K. Rowling/Mary GrandPré</td>\n",
       "      <td>4.49</td>\n",
       "      <td>0439358078</td>\n",
       "      <td>9780439358071</td>\n",
       "      <td>870</td>\n",
       "      <td>2153167</td>\n",
       "      <td>29221</td>\n",
       "      <td>1.093997e+09</td>\n",
       "      <td>...</td>\n",
       "      <td>0</td>\n",
       "      <td>0</td>\n",
       "      <td>0</td>\n",
       "      <td>0</td>\n",
       "      <td>0</td>\n",
       "      <td>0</td>\n",
       "      <td>0</td>\n",
       "      <td>0</td>\n",
       "      <td>0</td>\n",
       "      <td>eng</td>\n",
       "    </tr>\n",
       "    <tr>\n",
       "      <th>2</th>\n",
       "      <td>4</td>\n",
       "      <td>Harry Potter and the Chamber of Secrets (Harry...</td>\n",
       "      <td>J.K. Rowling</td>\n",
       "      <td>4.42</td>\n",
       "      <td>0439554896</td>\n",
       "      <td>9780439554893</td>\n",
       "      <td>352</td>\n",
       "      <td>6333</td>\n",
       "      <td>244</td>\n",
       "      <td>1.067645e+09</td>\n",
       "      <td>...</td>\n",
       "      <td>0</td>\n",
       "      <td>0</td>\n",
       "      <td>0</td>\n",
       "      <td>0</td>\n",
       "      <td>0</td>\n",
       "      <td>0</td>\n",
       "      <td>0</td>\n",
       "      <td>0</td>\n",
       "      <td>0</td>\n",
       "      <td>eng</td>\n",
       "    </tr>\n",
       "    <tr>\n",
       "      <th>3</th>\n",
       "      <td>5</td>\n",
       "      <td>Harry Potter and the Prisoner of Azkaban (Harr...</td>\n",
       "      <td>J.K. Rowling/Mary GrandPré</td>\n",
       "      <td>4.56</td>\n",
       "      <td>043965548X</td>\n",
       "      <td>9780439655484</td>\n",
       "      <td>435</td>\n",
       "      <td>2339585</td>\n",
       "      <td>36325</td>\n",
       "      <td>1.083370e+09</td>\n",
       "      <td>...</td>\n",
       "      <td>0</td>\n",
       "      <td>0</td>\n",
       "      <td>0</td>\n",
       "      <td>0</td>\n",
       "      <td>0</td>\n",
       "      <td>0</td>\n",
       "      <td>0</td>\n",
       "      <td>0</td>\n",
       "      <td>0</td>\n",
       "      <td>eng</td>\n",
       "    </tr>\n",
       "    <tr>\n",
       "      <th>4</th>\n",
       "      <td>8</td>\n",
       "      <td>Harry Potter Boxed Set  Books 1-5 (Harry Potte...</td>\n",
       "      <td>J.K. Rowling/Mary GrandPré</td>\n",
       "      <td>4.78</td>\n",
       "      <td>0439682584</td>\n",
       "      <td>9780439682589</td>\n",
       "      <td>2690</td>\n",
       "      <td>41428</td>\n",
       "      <td>164</td>\n",
       "      <td>1.095034e+09</td>\n",
       "      <td>...</td>\n",
       "      <td>0</td>\n",
       "      <td>0</td>\n",
       "      <td>0</td>\n",
       "      <td>0</td>\n",
       "      <td>0</td>\n",
       "      <td>0</td>\n",
       "      <td>0</td>\n",
       "      <td>0</td>\n",
       "      <td>0</td>\n",
       "      <td>eng</td>\n",
       "    </tr>\n",
       "  </tbody>\n",
       "</table>\n",
       "<p>5 rows × 39 columns</p>\n",
       "</div>"
      ]
     },
     "execution_count": 254,
     "metadata": {},
     "output_type": "execute_result"
    }
   ],
   "execution_count": 254
  },
  {
   "cell_type": "markdown",
   "metadata": {
    "id": "T6hvNR3GzjjF"
   },
   "source": "### Now we will examine the data to adjust it for transformation."
  },
  {
   "cell_type": "markdown",
   "metadata": {
    "id": "MRhKKGRl0L2N"
   },
   "source": [
    "First, we can examine num_pages."
   ]
  },
  {
   "cell_type": "code",
   "metadata": {
    "colab": {
     "base_uri": "https://localhost:8080/",
     "height": 447
    },
    "id": "E8WC2Q5OznRQ",
    "outputId": "e6c161d0-a919-40c7-92a1-4f335ec443b6",
    "ExecuteTime": {
     "end_time": "2024-12-03T03:57:57.036012Z",
     "start_time": "2024-12-03T03:57:56.958619Z"
    }
   },
   "source": [
    "books_df[[\"num_pages\"]].boxplot()\n",
    "plt.show()"
   ],
   "outputs": [
    {
     "data": {
      "text/plain": [
       "<Figure size 640x480 with 1 Axes>"
      ],
      "image/png": "[encoded data removed]"
     },
     "metadata": {},
     "output_type": "display_data"
    }
   ],
   "execution_count": 255
  },
  {
   "cell_type": "markdown",
   "metadata": {
    "id": "htJ7h8z10Q-0"
   },
   "source": "This appears to be a logarithmic distribution, with many short books and few long books. We will apply a logistic transform to this feature. There are two vastly longer books at the top, above 4000 pages, which will mess with how precise our data is. We will remove those."
  },
  {
   "cell_type": "markdown",
   "metadata": {
    "id": "vB8M3K4T1LqA"
   },
   "source": "Next, ratings_count:"
  },
  {
   "cell_type": "code",
   "metadata": {
    "colab": {
     "base_uri": "https://localhost:8080/",
     "height": 462
    },
    "id": "HVv9zB7b1Q_d",
    "outputId": "1ab9ddae-21b6-42f5-f256-ab0280e11956",
    "ExecuteTime": {
     "end_time": "2024-12-03T03:57:57.164128Z",
     "start_time": "2024-12-03T03:57:57.085057Z"
    }
   },
   "source": [
    "books_df[[\"ratings_count\"]].boxplot()\n",
    "plt.show()"
   ],
   "outputs": [
    {
     "data": {
      "text/plain": [
       "<Figure size 640x480 with 1 Axes>"
      ],
      "image/png": "[encoded data removed]"
     },
     "metadata": {},
     "output_type": "display_data"
    }
   ],
   "execution_count": 256
  },
  {
   "cell_type": "markdown",
   "metadata": {
    "id": "SbnzvRgk1Ves"
   },
   "source": [
    "Don't be distracted by the strange y ticks, that's 1 million.\n",
    "\n",
    "It looks like there's one book very high up with over 4,000,000 reviews (it's Twilight) that we won't be able to predict with such little data at that range. We'll remove that one."
   ]
  },
  {
   "cell_type": "markdown",
   "metadata": {
    "id": "KILGb02WKYq-"
   },
   "source": "Next, text_reviews_count:"
  },
  {
   "cell_type": "code",
   "metadata": {
    "colab": {
     "base_uri": "https://localhost:8080/",
     "height": 447
    },
    "id": "otUbixg0Kaq4",
    "outputId": "fd366754-d05b-495c-b2e3-b8e13c8d965a",
    "ExecuteTime": {
     "end_time": "2024-12-03T03:57:57.274186Z",
     "start_time": "2024-12-03T03:57:57.197158Z"
    }
   },
   "source": [
    "books_df[[\"text_reviews_count\"]].boxplot()\n",
    "plt.show()"
   ],
   "outputs": [
    {
     "data": {
      "text/plain": [
       "<Figure size 640x480 with 1 Axes>"
      ],
      "image/png": "[encoded data removed]"
     },
     "metadata": {},
     "output_type": "display_data"
    }
   ],
   "execution_count": 257
  },
  {
   "cell_type": "markdown",
   "metadata": {
    "id": "-EAGx8bvKdcL"
   },
   "source": "We can remove the books above 80000 text reviews here. Removing outliers:"
  },
  {
   "cell_type": "code",
   "metadata": {
    "colab": {
     "base_uri": "https://localhost:8080/",
     "height": 447
    },
    "id": "16tYvusLKebc",
    "outputId": "08009346-5a43-4fa2-f868-d7205e41e9d1",
    "ExecuteTime": {
     "end_time": "2024-12-03T03:57:57.335239Z",
     "start_time": "2024-12-03T03:57:57.321227Z"
    }
   },
   "source": [
    "# Originally removed pages above 700\n",
    "# 692 books saved\n",
    "books_df = books_df[books_df[\"num_pages\"] <= 4000]\n",
    "# Originally removed ratings above 3000 or 10000\n",
    "# 3,476 books or 1,960 books saved\n",
    "books_df = books_df[books_df[\"ratings_count\"] <= 4000000]\n",
    "# Originally removed text review count above 150 (wtf?)\n",
    "# 7,638 books saved\n",
    "books_df = books_df[books_df[\"text_reviews_count\"] <= 80000]\n",
    "\n",
    "print(f\"{len(books_df_original) - len(books_df)} outliers were removed in total.\")"
   ],
   "outputs": [
    {
     "name": "stdout",
     "output_type": "stream",
     "text": [
      "6 outliers were removed in total.\n"
     ]
    }
   ],
   "execution_count": 258
  },
  {
   "cell_type": "markdown",
   "metadata": {
    "id": "YDX2ScFI5G1L"
   },
   "source": "### We will now perform an exploratory data analysis through three hypothesis tests.\n"
  },
  {
   "cell_type": "code",
   "metadata": {
    "id": "VQiccD-R6da2",
    "ExecuteTime": {
     "end_time": "2024-12-03T03:57:57.398006Z",
     "start_time": "2024-12-03T03:57:57.383993Z"
    }
   },
   "source": [
    "# Importing the required libraries to perform hypothesis tests:\n",
    "import matplotlib.pyplot as plt\n",
    "from scipy import stats"
   ],
   "outputs": [],
   "execution_count": 259
  },
  {
   "cell_type": "markdown",
   "metadata": {
    "id": "kBToeu1l5jD_"
   },
   "source": [
    "1. Let us use the ANOVA test to analyze the relationship between language and the number of reviews.\n",
    "\n",
    "$H_0$: Language has no effect on the number of reviews.\n",
    "\n",
    "$H_A$: Language has an effect on the number of reviews.\n",
    "\n",
    "$\\alpha$ = 0.05"
   ]
  },
  {
   "cell_type": "code",
   "metadata": {
    "colab": {
     "base_uri": "https://localhost:8080/",
     "height": 507
    },
    "id": "QxmRtA3O6Uac",
    "outputId": "f56fc5b3-d600-4990-eb22-26192aae7a35",
    "ExecuteTime": {
     "end_time": "2024-12-03T03:57:58.099404Z",
     "start_time": "2024-12-03T03:57:57.430694Z"
    }
   },
   "source": [
    "books_df[[\"language_code\", \"ratings_count\"]].boxplot(by=\"language_code\")\n",
    "plt.xlabel(\"Language\")\n",
    "plt.ylabel(\"Reviews per book\")\n",
    "plt.title(\"Relationship between language and number of reviews\")\n",
    "plt.yscale(\"log\")\n",
    "plt.xticks(rotation=90)\n",
    "plt.show()"
   ],
   "outputs": [
    {
     "data": {
      "text/plain": [
       "<Figure size 640x480 with 1 Axes>"
      ],
      "image/png": "[encoded data removed]"
     },
     "metadata": {},
     "output_type": "display_data"
    }
   ],
   "execution_count": 260
  },
  {
   "cell_type": "markdown",
   "metadata": {
    "id": "gSJLNBZW6qFz"
   },
   "source": [
    "As we can see from the boxplot, there is a decent variation between the languages for the number of reviews books get. There also appears to be a lot of extremely highly reviewed outlier books in the dataset as well."
   ]
  },
  {
   "cell_type": "code",
   "metadata": {
    "colab": {
     "base_uri": "https://localhost:8080/"
    },
    "id": "F9Ltrimw6vXt",
    "outputId": "5bd1c0c0-81b2-4707-a991-5bf0ae46a065",
    "ExecuteTime": {
     "end_time": "2024-12-03T03:57:58.145447Z",
     "start_time": "2024-12-03T03:57:58.130434Z"
    }
   },
   "source": [
    "# Performing the ANOVA test:\n",
    "samples = [x[1] for x in books_df.groupby(\"language_code\")[\"ratings_count\"]]\n",
    "f_val, p_val = stats.f_oneway(*samples)\n",
    "p_val"
   ],
   "outputs": [
    {
     "data": {
      "text/plain": [
       "0.0018465084952005032"
      ]
     },
     "execution_count": 261,
     "metadata": {},
     "output_type": "execute_result"
    }
   ],
   "execution_count": 261
  },
  {
   "cell_type": "markdown",
   "metadata": {
    "id": "Ce93sET8614V"
   },
   "source": "As can be seen by the p-value, which is lower than $\\alpha$ (0.0018 < 0.05), language has a statistically significant effect on the number of reviews that a book has. This is likely due to different languages having a larger reader base than other, more niche languages, or simply that Goodreads is an English website, and that English-like Indo-European language are more supported and popular to host than other languages, which would be hosted on a different site."
  },
  {
   "cell_type": "markdown",
   "metadata": {
    "id": "PUBsaffW6-Al"
   },
   "source": [
    "2. Let us perform an ANOVA test to measure whether the means of the average rating for a publisher's set of books differ from each other.\n",
    "\n",
    "$H_0$ : The mean average rating of books do not differ based on the books' publishers.\n",
    "\n",
    "$H_A$ : The mean average rating of books do differ based on the books' publishers.\n",
    "\n",
    "$\\alpha$ = 0.05"
   ]
  },
  {
   "cell_type": "code",
   "metadata": {
    "colab": {
     "base_uri": "https://localhost:8080/"
    },
    "id": "FNDcLW738ZpU",
    "outputId": "41626f4a-118d-4431-e86b-3720da03a27e",
    "ExecuteTime": {
     "end_time": "2024-12-03T03:57:58.239533Z",
     "start_time": "2024-12-03T03:57:58.178478Z"
    }
   },
   "source": [
    "# Performing the ANOVA test\n",
    "test1_group = books_df.groupby(\"publisher\")['average_rating'].apply(list)\n",
    "f_statistic, p_value = stats.f_oneway(*test1_group)\n",
    "f_statistic, p_value"
   ],
   "outputs": [
    {
     "data": {
      "text/plain": [
       "(3.3881463525531057, 0.0)"
      ]
     },
     "execution_count": 262,
     "metadata": {},
     "output_type": "execute_result"
    }
   ],
   "execution_count": 262
  },
  {
   "cell_type": "markdown",
   "metadata": {
    "id": "89ALHbQE8fdg"
   },
   "source": "The p-value = 0. Since the p-value is less than $\\alpha$, therefore we reject the null hypothesis and conclude that the mean average rating of books do differ based on their publishers."
  },
  {
   "cell_type": "code",
   "metadata": {
    "colab": {
     "base_uri": "https://localhost:8080/",
     "height": 448
    },
    "id": "kV8U2nN48sWx",
    "outputId": "38eca0c0-7330-4b8e-dc00-cbf0682f6a6a",
    "ExecuteTime": {
     "end_time": "2024-12-03T03:57:59.680862Z",
     "start_time": "2024-12-03T03:57:58.272563Z"
    }
   },
   "source": [
    "avg_rating_by_publisher = books_df.groupby(\"publisher\")['average_rating'].mean()\n",
    "avg_rating_by_publisher\n",
    "plt.bar(avg_rating_by_publisher.index, avg_rating_by_publisher.values)\n",
    "plt.title(\"Mean of average ratings of books by publisher\")\n",
    "plt.xticks([])\n",
    "plt.xlabel(\"Publisher (names omitted for readability)\")\n",
    "plt.ylabel(\"Mean of Average Rating\")\n",
    "plt.show()"
   ],
   "outputs": [
    {
     "data": {
      "text/plain": [
       "<Figure size 640x480 with 1 Axes>"
      ],
      "image/png": "[encoded data removed]"
     },
     "metadata": {},
     "output_type": "display_data"
    }
   ],
   "execution_count": 263
  },
  {
   "cell_type": "markdown",
   "metadata": {
    "id": "siCwZVAG9III"
   },
   "source": [
    "3. Z-Test for Relationship between Average Number of Pages and Language"
   ]
  },
  {
   "cell_type": "code",
   "metadata": {
    "colab": {
     "base_uri": "https://localhost:8080/",
     "height": 388
    },
    "id": "k95gjbRD9TAR",
    "outputId": "8a5241c0-1bef-47fa-e262-cc49333d046f",
    "ExecuteTime": {
     "end_time": "2024-12-03T03:57:59.931089Z",
     "start_time": "2024-12-03T03:57:59.713891Z"
    }
   },
   "source": [
    "avg_page_per_language = books_df.groupby(\"language_code\")['num_pages'].mean().sort_values()\n",
    "plt.figure(1, [18, 4])\n",
    "mean_pages = books_df['num_pages'].mean()\n",
    "plt.title(\"Average number of pages for each language code\")\n",
    "plt.xlabel(\"Language code (ISO 639-2)\")\n",
    "plt.ylabel(\"Average number of pages\")\n",
    "plt.axline((0,mean_pages),slope=0,color=\"red\")\n",
    "plt.bar(avg_page_per_language.index, avg_page_per_language.values)\n",
    "plt.show()"
   ],
   "outputs": [
    {
     "data": {
      "text/plain": [
       "<Figure size 1800x400 with 1 Axes>"
      ],
      "image/png": "[encoded data removed]"
     },
     "metadata": {},
     "output_type": "display_data"
    }
   ],
   "execution_count": 264
  },
  {
   "cell_type": "markdown",
   "metadata": {
    "id": "vLCSGDJI9YrT"
   },
   "source": [
    "While it's clear that there are some big outliers, mainly \"enm\", which is Middle English, most of the values hover around the red line, which is the mean number of pages across all languages. The median, at 299 compared to the mean of approximately 336, is also quite close to the mean, so there isn't much of a skew; there are outliers on both ends, although the outliers on the higher end tend to deviate from the mean more than the outliers on the lower end."
   ]
  },
  {
   "cell_type": "markdown",
   "metadata": {
    "id": "FuG1-sWG9a1C"
   },
   "source": [
    "To look at a concrete example, we can use a Z-test to see if the mean for Japanese is significantly different than the overall mean. Japanese is chosen because it's not incredibly close to the mean but not as much of an outlier as Middle English, and because there are more Japanese books in the database than those of many other languages. The below code shows that there are 46 books in Japanese in the data set, which is enough to satisfy the Central Limit Theorem for a Z-test."
   ]
  },
  {
   "cell_type": "code",
   "metadata": {
    "colab": {
     "base_uri": "https://localhost:8080/"
    },
    "id": "-s2WJ4LR9cso",
    "outputId": "d2cc5285-73fb-4d25-c161-763843976a3e",
    "ExecuteTime": {
     "end_time": "2024-12-03T03:57:59.977131Z",
     "start_time": "2024-12-03T03:57:59.963118Z"
    }
   },
   "source": "len(books_df[books_df['language_code'] == 'jpn'])",
   "outputs": [
    {
     "data": {
      "text/plain": [
       "46"
      ]
     },
     "execution_count": 265,
     "metadata": {},
     "output_type": "execute_result"
    }
   ],
   "execution_count": 265
  },
  {
   "cell_type": "markdown",
   "metadata": {
    "id": "HvZV88Kk9h-w"
   },
   "source": [
    "$H_0$ : The mean number of pages for Japanese books is not significantly different from the mean number of pages for all books.\n",
    "\n",
    "$H_A$: The mean number of pages for Japanese books is significantly different from the mean number of pages for all books.\n",
    "\n",
    "$\\alpha$\n",
    "\n",
    "This will be a one-tailed test, since we can see from the graph that the mean is lower. With this $\\alpha$, the critical value for a left-tailed Z-test is -1.6448536.\n",
    "\n",
    "To conduct the Z-test, all we need to do is calculate the z-score and compare it to the critical value."
   ]
  },
  {
   "cell_type": "code",
   "metadata": {
    "colab": {
     "base_uri": "https://localhost:8080/"
    },
    "id": "xByhTeav-HvB",
    "outputId": "a2ac6653-57b6-4b63-bf45-fa1f30c8c7f8",
    "ExecuteTime": {
     "end_time": "2024-12-03T03:58:00.025174Z",
     "start_time": "2024-12-03T03:58:00.010161Z"
    }
   },
   "source": [
    "import math\n",
    "jpn_mean = books_df[books_df['language_code'] == 'jpn']['num_pages'].mean()\n",
    "std_pages = books_df[books_df['language_code'] == 'jpn']['num_pages'].std()\n",
    "zscore = (jpn_mean-mean_pages)/(std_pages)\n",
    "zscore"
   ],
   "outputs": [
    {
     "data": {
      "text/plain": [
       "-15.816335911807602"
      ]
     },
     "execution_count": 266,
     "metadata": {},
     "output_type": "execute_result"
    }
   ],
   "execution_count": 266
  },
  {
   "cell_type": "markdown",
   "metadata": {
    "id": "hYtSGknM-OlH"
   },
   "source": [
    "The Z-score is less than the critical value of $-1.6448536$, so we reject the null hypothesis; there exists sufficient evidence to conclude that the language of a book being Japanese has an effect on its page length."
   ]
  },
  {
   "cell_type": "markdown",
   "metadata": {
    "id": "FiCCVHW1T01A"
   },
   "source": [
    "#5. Primary Analysis"
   ]
  },
  {
   "cell_type": "markdown",
   "metadata": {
    "id": "br-401K9ovaj"
   },
   "source": [
    "Since we are attempting to predict the average rating of a book (a continuous label) given several continuous features, the best type of model for the task is a linear regression model."
   ]
  },
  {
   "cell_type": "markdown",
   "metadata": {
    "id": "u21bWsHfqz6v"
   },
   "source": [
    "First we import the libraries necessary for creating and training the linear regression model."
   ]
  },
  {
   "cell_type": "code",
   "metadata": {
    "id": "bi04wvQbqzq-",
    "ExecuteTime": {
     "end_time": "2024-12-03T04:07:19.999229Z",
     "start_time": "2024-12-03T04:07:18.493032Z"
    }
   },
   "source": [
    "from sklearn.model_selection import train_test_split, cross_val_score, StratifiedKFold\n",
    "from sklearn.preprocessing import StandardScaler\n",
    "from sklearn.metrics import accuracy_score, classification_report, confusion_matrix, silhouette_score, mean_squared_error, r2_score\n",
    "from sklearn.linear_model import LinearRegression\n",
    "\n",
    "import torch\n",
    "from torch import nn, optim\n",
    "import torch.nn.functional as F\n",
    "from torch.utils.data import DataLoader, TensorDataset\n",
    "import torchmetrics\n",
    "random_state = 42\n"
   ],
   "outputs": [],
   "execution_count": 283
  },
  {
   "cell_type": "markdown",
   "metadata": {
    "id": "NXGHgJFTvwFw"
   },
   "source": [
    "We drop incomplete rows and the columns which we are not considering:\n",
    "*   Book ID\n",
    "*   Title\n",
    "*   Average Rating (this is the label we are trying to predict, so we drop it from the training set)\n",
    "*   ISBN\n",
    "*   ISBN13\n",
    "\n",
    "The following discrete columns have been label encoded, so we drop the text columns (one-hot encoding would not be suitable given the large size of the inputs, so label encoding was used instead):\n",
    "*   Authors\n",
    "*   Language Code\n",
    "*   Publisher\n",
    "\n",
    "The following discrete column was broken up into three continuous columns to allow for regression:\n",
    "*   Publication Date (separated into the columns Day, Month, and Year)\n",
    "\n",
    "The following columns were dropped for being deemed irrelevant given the timescale present in the dataset (as according to the Curse of Dimensionality, we want to remove unecessary dimensions wherever possible to reduce sparcity of data):\n",
    "*   Month\n",
    "*   Day\n",
    "\n",
    "\n",
    "\n"
   ]
  },
  {
   "cell_type": "code",
   "metadata": {
    "id": "Gp98mM5EoyK1",
    "ExecuteTime": {
     "end_time": "2024-12-03T03:58:00.121262Z",
     "start_time": "2024-12-03T03:58:00.106248Z"
    }
   },
   "source": [
    "import numpy as np\n",
    "\n",
    "books_df = books_df.dropna()\n",
    "X = books_df.drop(columns=[\"bookID\", \"title\", \"average_rating\", \"language_code\", \"isbn\", \"isbn13\", \"authors\", \"publisher\", \"publication_date\"])\n",
    "y = books_df[[\"average_rating\"]].to_numpy()\n",
    "\n",
    "X[\"num_pages\"] = X[\"num_pages\"].replace(0,1)\n",
    "X[\"num_pages\"] = np.log(X[\"num_pages\"])\n",
    "X[\"ratings_count\"] = X[\"ratings_count\"].replace(0,1)\n",
    "X[\"ratings_count\"] = np.log(X[\"ratings_count\"])\n",
    "X[\"text_reviews_count\"] = X[\"text_reviews_count\"].replace(0,1)\n",
    "X[\"text_reviews_count\"] = np.log(X[\"text_reviews_count\"])\n",
    "X.shape\n"
   ],
   "outputs": [
    {
     "data": {
      "text/plain": [
       "(11117, 30)"
      ]
     },
     "execution_count": 268,
     "metadata": {},
     "output_type": "execute_result"
    }
   ],
   "execution_count": 268
  },
  {
   "cell_type": "markdown",
   "metadata": {
    "id": "1d6TqeIJvNbe"
   },
   "source": "Now we prepare the dataset for neural network training."
  },
  {
   "cell_type": "code",
   "metadata": {
    "id": "uQQnZY3Vo9ud",
    "ExecuteTime": {
     "end_time": "2024-12-03T03:58:00.183318Z",
     "start_time": "2024-12-03T03:58:00.168304Z"
    }
   },
   "source": [
    "torch.set_default_dtype(torch.float64)\n",
    "device = torch.device('cuda:0' if torch.cuda.is_available() else 'cpu')\n",
    "print(device)\n",
    "print(torch.cuda.device_count())\n",
    "scaler = StandardScaler()\n",
    "X = scaler.fit_transform(X, y)\n",
    "X_train, X_test, Y_train, Y_test = train_test_split(X,y, test_size= 0.2,random_state=random_state)\n",
    "train_loader = DataLoader(TensorDataset(torch.tensor(X_train), torch.tensor(Y_train)), batch_size=32, shuffle=True)\n",
    "test_loader = DataLoader(TensorDataset(torch.tensor(X_test), torch.tensor(Y_test)), batch_size=32, shuffle=False)\n",
    "\n",
    "batch_size = train_loader.batch_size\n",
    "num_train_data = len(train_loader.dataset)\n",
    "num_test_data = len(test_loader.dataset)\n",
    "feat_dim = len(train_loader.dataset.tensors[0][0])"
   ],
   "outputs": [
    {
     "name": "stdout",
     "output_type": "stream",
     "text": [
      "cuda:0\n",
      "1\n"
     ]
    }
   ],
   "execution_count": 269
  },
  {
   "cell_type": "markdown",
   "metadata": {
    "id": "PcH4zabfwm1V"
   },
   "source": [
    "We scale the training set and testing set to be uniform:"
   ]
  },
  {
   "cell_type": "code",
   "metadata": {
    "id": "mPs1zpflpIuJ",
    "ExecuteTime": {
     "end_time": "2024-12-03T03:58:00.246456Z",
     "start_time": "2024-12-03T03:58:00.231443Z"
    }
   },
   "source": [
    "\n",
    "class BookML(nn.Module):\n",
    "    def __init__(self, feat_dim):\n",
    "        super(BookML, self).__init__()\n",
    "        self.fc1 = nn.Linear(feat_dim, 30)\n",
    "        self.fc2 = nn.Linear(30, 15)\n",
    "        self.fc3 = nn.Linear(15, 5)\n",
    "        self.fc4 = nn.Linear(5, 1)\n",
    "\n",
    "    def forward(self, x):\n",
    "        x1 = F.relu(self.fc1(x))\n",
    "        x2 = F.relu(self.fc2(x1))\n",
    "        x3 = F.relu(self.fc3(x2))\n",
    "        return self.fc4(x3)\n",
    "\n",
    "model = BookML(feat_dim)\n",
    "\n",
    "num_layers = len(list(model.children()))\n",
    "input_dim = list(model.children())[0].in_features\n",
    "output_dim = list(model.children())[-1].out_features\n",
    "\n",
    "print(\"Number of Layers:\", num_layers)\n",
    "print(\"Input Dimension:\", input_dim)\n",
    "print(\"Output Dimension:\", output_dim)"
   ],
   "outputs": [
    {
     "name": "stdout",
     "output_type": "stream",
     "text": [
      "Number of Layers: 4\n",
      "Input Dimension: 30\n",
      "Output Dimension: 1\n"
     ]
    }
   ],
   "execution_count": 270
  },
  {
   "metadata": {},
   "cell_type": "markdown",
   "source": "We use scikit-learn's Linear Regression model for the analysis:"
  },
  {
   "cell_type": "code",
   "metadata": {
    "colab": {
     "base_uri": "https://localhost:8080/",
     "height": 80
    },
    "id": "ou1bEFumpJvl",
    "outputId": "5d2a8273-2286-406c-a0d0-a85ea8a9df2d",
    "ExecuteTime": {
     "end_time": "2024-12-03T04:00:32.943724Z",
     "start_time": "2024-12-03T04:00:01.577808Z"
    }
   },
   "source": [
    "criterion = nn.MSELoss()\n",
    "optimizer = optim.Adam(model.parameters(), lr=0.001)\n",
    "\n",
    "epochs = 100\n",
    "losses = []\n",
    "for epoch in range(epochs):\n",
    "    running_loss = 0.0\n",
    "    for batch_idx, (data, targets) in enumerate(train_loader):\n",
    "        # Forward pass: calculates losses from the data and your model. (2-3 lines)\n",
    "        ### YOUR ANSWER HERE\n",
    "        optimizer.zero_grad()\n",
    "        pred = model(data)\n",
    "        loss = criterion(pred, targets)\n",
    "        # Backward pass: updates your network from the loss gradients. (3-4 lines)\n",
    "        ### YOUR ANSWER HERE\n",
    "        loss.backward()\n",
    "        optimizer.step()\n",
    "        running_loss += loss.item()\n",
    "    running_loss = running_loss / len(train_loader)\n",
    "    losses.append(running_loss)\n",
    "    if epoch % 10 == 0:\n",
    "        print(f'Epoch {epoch+1}/{epochs}, Loss: {running_loss}')\n",
    "\n",
    "print('Finished Training')"
   ],
   "outputs": [
    {
     "name": "stdout",
     "output_type": "stream",
     "text": [
      "Epoch 1/100, Loss: 0.11123306510822713\n",
      "Epoch 11/100, Loss: 0.11037168491672177\n",
      "Epoch 21/100, Loss: 0.11037086338201933\n",
      "Epoch 31/100, Loss: 0.11030982065790272\n",
      "Epoch 41/100, Loss: 0.11030173843554993\n",
      "Epoch 51/100, Loss: 0.11025262888033245\n",
      "Epoch 61/100, Loss: 0.11015714206776386\n",
      "Epoch 71/100, Loss: 0.11017667222937583\n",
      "Epoch 81/100, Loss: 0.11008189647366702\n",
      "Epoch 91/100, Loss: 0.11016831480553721\n",
      "Finished Training\n"
     ]
    }
   ],
   "execution_count": 278
  },
  {
   "cell_type": "code",
   "metadata": {
    "colab": {
     "base_uri": "https://localhost:8080/"
    },
    "id": "20D9p0lspLd2",
    "outputId": "392eb21b-3dca-4ebd-fc94-3e14c32568a2",
    "ExecuteTime": {
     "end_time": "2024-12-03T04:00:34.130477Z",
     "start_time": "2024-12-03T04:00:33.845759Z"
    }
   },
   "source": [
    "test_loss = 0.0\n",
    "for batch_idx, (data, targets) in enumerate(test_loader):\n",
    "    loss = criterion(model(data), targets)\n",
    "    test_loss += loss.item()\n",
    "test_loss = test_loss / len(test_loader)\n",
    "\n",
    "train_loss = 0.0\n",
    "for batch_idx, (data, targets) in enumerate(train_loader):\n",
    "    loss = criterion(model(data), targets)\n",
    "    train_loss += loss.item()\n",
    "train_loss = train_loss / len(train_loader)\n",
    "\n",
    "print(\"Train Loss:\", train_loss)\n",
    "print(\"Test Loss:\", test_loss)\n",
    "\n",
    "plt.plot(losses)\n",
    "plt.title(\"Losses over Time\")\n",
    "plt.xlabel(\"Time\")\n",
    "plt.ylabel(\"Loss (MSE)\")\n",
    "plt.show()"
   ],
   "outputs": [
    {
     "name": "stdout",
     "output_type": "stream",
     "text": [
      "Train Loss: 0.1100985329237555\n",
      "Test Loss: 0.10065643064263\n"
     ]
    },
    {
     "data": {
      "text/plain": [
       "<Figure size 640x480 with 1 Axes>"
      ],
      "image/png": "[encoded data removed]"
     },
     "metadata": {},
     "output_type": "display_data"
    }
   ],
   "execution_count": 280
  },
  {
   "cell_type": "markdown",
   "metadata": {
    "id": "ZgYLvoiWrKuO"
   },
   "source": [
    "Clearly the correlation coefficient ${R^2}$ is very low, meaning that less than 2% of the variance in the model can be explained by a linear relationship between the features and the label. So there is almost no linear relationship between the average rating and the other columns in the dataset."
   ]
  },
  {
   "cell_type": "markdown",
   "metadata": {
    "id": "-3HI5weST4nc"
   },
   "source": [
    "#6. Visualization\n",
    "\n",
    "\n",
    "We claim that there is no error with our model, but rather that the very low $R^2$ can be explained by the lack of correlation between our predictor variables and the rating. Experimenting with different combinations of the predictor variables, such as omitting some of the predictor variables to avoid the curse of dimensionality, yield a similar $R^2$ of less than 2%.\n",
    "\n",
    "We'll show that there genuinely is very little connection between the data by using Seaborn to display a heatmap.\n",
    "\n",
    "First, we need to determine the correlation for our predictor variables and our target variable. We can do this by creating a correlation matrix, and then focusing on the last column, which stores the correlations between the average rating and our predictors."
   ]
  },
  {
   "cell_type": "code",
   "metadata": {
    "ExecuteTime": {
     "end_time": "2024-12-03T04:11:25.944505Z",
     "start_time": "2024-12-03T04:11:25.933495Z"
    }
   },
   "source": [
    "target = torch.tensor(y)\n",
    "pred = model(torch.tensor(X))\n",
    "r2score = torchmetrics.R2Score()\n",
    "r2 = r2score(pred, target).item()\n",
    "print(f\"The R^2 of our model is {r2}\")"
   ],
   "outputs": [
    {
     "name": "stdout",
     "output_type": "stream",
     "text": [
      "The R^2 of our model is 0.11865511984526933\n"
     ]
    }
   ],
   "execution_count": 290
  },
  {
   "cell_type": "markdown",
   "metadata": {},
   "source": [
    "As you can see in this heatmap, there is very little correlation between any of the predictor variables and the average rating individually. The best at estimating the average rating is the rating count, but even that has an extremely weak correlation of 0.10. If the predictor variables are this weakly correlated with the average rating, then any model we create will not be able to predict the rating well, as it would have to invent patterns to pick up on. In fact, the fact that our model has such a low $R^2$ indicates that we did not overfit it, as one sign of overfitting is being too sensitive to noise in the data.\n"
   ]
  },
  {
   "cell_type": "markdown",
   "metadata": {
    "id": "SPuqJD7TT7BG"
   },
   "source": [
    "#7. Insights and Conclusions\n",
    "\n",
    "Based on the poor performance of the model and the visualization explaining that the failure of the model is not due to flaws with the model's construction, we can conclude that it is not possible to meaningfully predict a book's rating based on the data that the Goodreads API gives us, namely the language, pages, review count, and publication details. In some sense, this is a reassurance to readers who use Goodreads as a resource, and authors who are looking to publish.\n",
    "\n",
    "On the author side, these results indicate that books of all languages, all lengths, and all publication details are able to get high reviews from readers. Authors can use this information to give themselves more freedom with the types of books they want to write, as these factors alone do not determine the book's success.\n",
    "\n",
    "On the reader side, readers can determine that books with few reviews can still have high quality, and that people do not rate popular books higher simply because they're popular. If the latter were the case, then we'd expect there to be a positive correlation between ratings and review count, but the one that's there is extremely weak and not an indication of any sort of relationship.\n",
    "\n",
    "There may be other factors to consider that may have been able to partially predict a book's rating. Genre, for example, might have some predictive potential, but the Goodreads API does not provide that information, and we could not find any additional source that has the genres for all these books available. However, what we do know is that the information Goodreads gives us is not enough to predict the average rating of a book."
   ]
  }
 ],
 "metadata": {
  "colab": {
   "provenance": []
  },
  "kernelspec": {
   "display_name": "Python 3 (ipykernel)",
   "name": "python3",
   "language": "python"
  },
  "language_info": {
   "codemirror_mode": {
    "name": "ipython",
    "version": 3
   },
   "file_extension": ".py",
   "mimetype": "text/x-python",
   "name": "python",
   "nbconvert_exporter": "python",
   "pygments_lexer": "ipython3",
   "version": "3.10.6"
  }
 },
 "nbformat": 4,
 "nbformat_minor": 0
}
